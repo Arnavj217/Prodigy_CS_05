{
 "cells": [
  {
   "cell_type": "code",
   "execution_count": null,
   "id": "bf14d6c0-7b1a-4759-9f97-7a8332291162",
   "metadata": {},
   "outputs": [],
   "source": [
    "from scapy.all import sniff, IP, TCP, UDP, ICMP\n",
    "from datetime import datetime\n",
    "\n",
    "def packet_callback(packet):\n",
    "    print(\"=\"*80)\n",
    "    print(f\"📅 Time: {datetime.now().strftime('%Y-%m-%d %H:%M:%S')}\")\n",
    "\n",
    "    if IP in packet:\n",
    "        ip_layer = packet[IP]\n",
    "        print(f\"🌐 Source IP      : {ip_layer.src}\")\n",
    "        print(f\"🌐 Destination IP : {ip_layer.dst}\")\n",
    "        print(f\"📦 Protocol       : {ip_layer.proto}\")\n",
    "\n",
    "        # Identify protocol\n",
    "        if TCP in packet:\n",
    "            print(\"🔧 TCP Packet\")\n",
    "            print(f\"🔢 Source Port      : {packet[TCP].sport}\")\n",
    "            print(f\"🔢 Destination Port : {packet[TCP].dport}\")\n",
    "        elif UDP in packet:\n",
    "            print(\"🔧 UDP Packet\")\n",
    "            print(f\"🔢 Source Port      : {packet[UDP].sport}\")\n",
    "            print(f\"🔢 Destination Port : {packet[UDP].dport}\")\n",
    "        elif ICMP in packet:\n",
    "            print(\"🔧 ICMP Packet\")\n",
    "\n",
    "        # Show raw payload (if any)\n",
    "        if packet.haslayer(Raw := getattr(packet, 'Raw', None)):\n",
    "            payload = packet[Raw].load\n",
    "            try:\n",
    "                print(f\"🧾 Payload:\\n{payload.decode(errors='replace')}\")\n",
    "            except:\n",
    "                print(\"🔒 Binary/Non-text Payload\")\n",
    "    else:\n",
    "        print(\"📎 Non-IP Packet\")\n",
    "\n",
    "def main():\n",
    "    print(\"🔍 Packet Sniffer Tool (Educational Use Only)\")\n",
    "    print(\"✳ Listening for packets... Press CTRL+C to stop.\\n\")\n",
    "\n",
    "    try:\n",
    "        # You can set iface=\"eth0\" or \"Wi-Fi\" for a specific interface\n",
    "        sniff(filter=\"ip\", prn=packet_callback, store=False)\n",
    "    except KeyboardInterrupt:\n",
    "        print(\"\\n🛑 Sniffing stopped by user.\")\n",
    "    except PermissionError:\n",
    "        print(\"❗ Permission denied: Please run as administrator/root.\")\n",
    "\n",
    "if _name_ == \"_main_\":\n",
    "    main()"
   ]
  }
 ],
 "metadata": {
  "kernelspec": {
   "display_name": "Python 3 (ipykernel)",
   "language": "python",
   "name": "python3"
  },
  "language_info": {
   "codemirror_mode": {
    "name": "ipython",
    "version": 3
   },
   "file_extension": ".py",
   "mimetype": "text/x-python",
   "name": "python",
   "nbconvert_exporter": "python",
   "pygments_lexer": "ipython3",
   "version": "3.12.7"
  }
 },
 "nbformat": 4,
 "nbformat_minor": 5
}
